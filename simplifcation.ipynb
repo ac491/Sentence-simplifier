{
  "nbformat": 4,
  "nbformat_minor": 0,
  "metadata": {
    "colab": {
      "name": "simplifcation.ipynb",
      "provenance": [],
      "collapsed_sections": []
    },
    "kernelspec": {
      "name": "python3",
      "display_name": "Python 3"
    }
  },
  "cells": [
    {
      "cell_type": "markdown",
      "metadata": {
        "id": "rvHRrPMuvtBu",
        "colab_type": "text"
      },
      "source": [
        "Install modules"
      ]
    },
    {
      "cell_type": "code",
      "metadata": {
        "id": "VpfJqpcbxVWH",
        "colab_type": "code",
        "colab": {
          "base_uri": "https://localhost:8080/",
          "height": 360
        },
        "outputId": "ce6ef1f3-30a3-4437-f107-810ad9674178"
      },
      "source": [
        "!pip install spacy\n",
        "!python -m spacy download en_core_web_sm\n"
      ],
      "execution_count": 1,
      "outputs": [
        {
          "output_type": "stream",
          "text": [
            "Requirement already satisfied: spacy in /usr/local/lib/python3.6/dist-packages (2.1.9)\n",
            "Requirement already satisfied: thinc<7.1.0,>=7.0.8 in /usr/local/lib/python3.6/dist-packages (from spacy) (7.0.8)\n",
            "Requirement already satisfied: blis<0.3.0,>=0.2.2 in /usr/local/lib/python3.6/dist-packages (from spacy) (0.2.4)\n",
            "Requirement already satisfied: wasabi<1.1.0,>=0.2.0 in /usr/local/lib/python3.6/dist-packages (from spacy) (0.3.0)\n",
            "Requirement already satisfied: numpy>=1.15.0 in /usr/local/lib/python3.6/dist-packages (from spacy) (1.17.3)\n",
            "Requirement already satisfied: cymem<2.1.0,>=2.0.2 in /usr/local/lib/python3.6/dist-packages (from spacy) (2.0.2)\n",
            "Requirement already satisfied: murmurhash<1.1.0,>=0.28.0 in /usr/local/lib/python3.6/dist-packages (from spacy) (1.0.2)\n",
            "Requirement already satisfied: srsly<1.1.0,>=0.0.6 in /usr/local/lib/python3.6/dist-packages (from spacy) (0.2.0)\n",
            "Requirement already satisfied: requests<3.0.0,>=2.13.0 in /usr/local/lib/python3.6/dist-packages (from spacy) (2.21.0)\n",
            "Requirement already satisfied: preshed<2.1.0,>=2.0.1 in /usr/local/lib/python3.6/dist-packages (from spacy) (2.0.1)\n",
            "Requirement already satisfied: plac<1.0.0,>=0.9.6 in /usr/local/lib/python3.6/dist-packages (from spacy) (0.9.6)\n",
            "Requirement already satisfied: tqdm<5.0.0,>=4.10.0 in /usr/local/lib/python3.6/dist-packages (from thinc<7.1.0,>=7.0.8->spacy) (4.28.1)\n",
            "Requirement already satisfied: urllib3<1.25,>=1.21.1 in /usr/local/lib/python3.6/dist-packages (from requests<3.0.0,>=2.13.0->spacy) (1.24.3)\n",
            "Requirement already satisfied: idna<2.9,>=2.5 in /usr/local/lib/python3.6/dist-packages (from requests<3.0.0,>=2.13.0->spacy) (2.8)\n",
            "Requirement already satisfied: certifi>=2017.4.17 in /usr/local/lib/python3.6/dist-packages (from requests<3.0.0,>=2.13.0->spacy) (2019.9.11)\n",
            "Requirement already satisfied: chardet<3.1.0,>=3.0.2 in /usr/local/lib/python3.6/dist-packages (from requests<3.0.0,>=2.13.0->spacy) (3.0.4)\n",
            "Requirement already satisfied: en_core_web_sm==2.1.0 from https://github.com/explosion/spacy-models/releases/download/en_core_web_sm-2.1.0/en_core_web_sm-2.1.0.tar.gz#egg=en_core_web_sm==2.1.0 in /usr/local/lib/python3.6/dist-packages (2.1.0)\n",
            "\u001b[38;5;2m✔ Download and installation successful\u001b[0m\n",
            "You can now load the model via spacy.load('en_core_web_sm')\n"
          ],
          "name": "stdout"
        }
      ]
    },
    {
      "cell_type": "markdown",
      "metadata": {
        "id": "wpV03K6hvyVx",
        "colab_type": "text"
      },
      "source": [
        "Function to create dependency dictionary"
      ]
    },
    {
      "cell_type": "code",
      "metadata": {
        "id": "HHg5PnAqoJNO",
        "colab_type": "code",
        "colab": {}
      },
      "source": [
        "def transform(parsed):\n",
        "    d = {}\n",
        "    print(parsed)\n",
        "    print()\n",
        "    for x in parsed:\n",
        "        rel = x.dep_\n",
        "        parent = x.head.i + 1\n",
        "        dependent = x.i + 1\n",
        "        if parent == dependent and rel == 'ROOT':\n",
        "          parent = 0\n",
        "        if parent not in d.keys():\n",
        "            d[parent] = {}\n",
        "        if rel not in d[parent].keys():\n",
        "            d[parent][rel] = []\n",
        "    \n",
        "        d[parent][rel].append(dependent) \n",
        "\n",
        "    return d"
      ],
      "execution_count": 0,
      "outputs": []
    },
    {
      "cell_type": "markdown",
      "metadata": {
        "id": "n465XK9bv-_4",
        "colab_type": "text"
      },
      "source": [
        "Helper functions"
      ]
    },
    {
      "cell_type": "code",
      "metadata": {
        "id": "iwwjTrsIss8l",
        "colab_type": "code",
        "colab": {}
      },
      "source": [
        "def analyse_rc(sentence, relpron):\n",
        "        #check for markers indicating rel_clause\n",
        "        if any([s.lower() in relpron for s in sentence]):\n",
        "            mark = []\n",
        "            for s in sentence:\n",
        "                if s.lower() in relpron:\n",
        "                    mark.append(s.lower())\n",
        "            return True, mark\n",
        "        else:\n",
        "            return False, None\n",
        "\n",
        "def remove_all(aux, item):\n",
        "    for a in aux.keys():\n",
        "        for d in aux[a].keys():\n",
        "            if item in aux[a][d]:\n",
        "                aux[a][d].remove(item)\n",
        "\n",
        "def build(root, dep, aux, words, final, yes_root=True, previous=None):    \n",
        "    if previous == None:\n",
        "        previous = []\n",
        "    \n",
        "    if root in previous:\n",
        "        return\n",
        "    \n",
        "    previous.append(root)\n",
        "\n",
        "    if yes_root: \n",
        "        final[root] = words[root-1]\n",
        "        previous.append(root)\n",
        "\n",
        "    for k in dep.keys():\n",
        "        for i in dep[k]:\n",
        "            if i in aux.keys():\n",
        "\n",
        "                deps = aux[i]\n",
        "                build(i, deps, aux, words, final,previous=previous)\n",
        "\n",
        "            final[i] = words[i-1]"
      ],
      "execution_count": 0,
      "outputs": []
    },
    {
      "cell_type": "markdown",
      "metadata": {
        "id": "nsoq_PqIwCB2",
        "colab_type": "text"
      },
      "source": [
        "Function to simplify appositive phrases"
      ]
    },
    {
      "cell_type": "code",
      "metadata": {
        "id": "imVDnGQ2st9q",
        "colab_type": "code",
        "colab": {}
      },
      "source": [
        "def appositive_phrases(dep_dict, words, root, dep_root, ant):\n",
        "   \n",
        "    if 'nsubj' in dep_root:\n",
        "        subj = dep_root['nsubj'][0]\n",
        "        subj_word = words[subj-1]\n",
        "\n",
        "        #print(dep_dict)\n",
        "        if subj not in dep_dict:\n",
        "            return False, ant\n",
        "    \n",
        "        deps_subj = dep_dict[subj]\n",
        "        v_tense = words[root-1][1]\n",
        "        n_num = words[subj-1][1]\n",
        "        \n",
        "        if 'amod' in deps_subj: \n",
        "            mod = deps_subj['amod'][0]\n",
        "            if mod in dep_dict:\n",
        "                deps_mod = dep_dict[mod]\n",
        "            else:\n",
        "                deps_mod = {}\n",
        "            del dep_dict[subj]['amod']\n",
        "            deps_subj = dep_dict[subj]\n",
        "                \n",
        "            ## Treat simple cases such as 'general rule'\n",
        "            if 'JJ' in words[mod-1][1] and 'punct' not in deps_subj:\n",
        "                return False, ant\n",
        "\n",
        "        elif 'appos' in deps_subj:\n",
        "            mod = deps_subj['appos'][0]\n",
        "            if mod in dep_dict:\n",
        "                deps_mod = dep_dict[mod]\n",
        "            else:\n",
        "                deps_mod = {}\n",
        "            del dep_dict[subj]['appos']\n",
        "            deps_subj = dep_dict[subj]\n",
        "        else:\n",
        "            return False, ant\n",
        "\n",
        "        if 'punct' in deps_subj.keys():\n",
        "            del deps_subj['punct']\n",
        "\n",
        "        final_root = {}\n",
        "        build(root, dep_root, dep_dict, [s[0].lower() for s in words], final_root)\n",
        "        final_appos = {}\n",
        "        build(mod, deps_mod, dep_dict, [s[0].lower() for s in words], final_appos)\n",
        "        final_subj = {}\n",
        "        build(subj, deps_subj, dep_dict, [s[0].lower() for s in words], final_subj)\n",
        "\n",
        "        #print(final_root)\n",
        "        s1 = []\n",
        "        for i in sorted(final_root):\n",
        "            s1.append(final_root[i])\n",
        "        s1 = ' '.join(s1)\n",
        "        #print(s1)\n",
        "\n",
        "        #print(final_appos)\n",
        "        s2 = []\n",
        "        for i in sorted(final_appos):\n",
        "            s2.append(final_appos[i])\n",
        "        s2 = ' '.join(s2)\n",
        "        #print(s2)\n",
        "\n",
        "        #print(final_subj)\n",
        "        s3 = []\n",
        "        for i in sorted(final_subj):\n",
        "            s3.append(final_subj[i])\n",
        "        s3 = ' '.join(s3)\n",
        "        #print(s3)\n",
        "\n",
        "        if len(final_appos.keys()) < 2:\n",
        "            return False, ant\n",
        "\n",
        "        if n_num in [\"NN\", \"NNP\"]:\n",
        "            if v_tense in [\"VBP\", \"VBZ\", \"VB\"]:\n",
        "                s3 += \" is \"\n",
        "            elif v_tense in [\"VBD\", \"VBG\", \"VBN\"]:\n",
        "                s3 += \" was \"\n",
        "\n",
        "        elif n_num in [\"NNS\", \"NNPS\"]:\n",
        "            if v_tense in [\"VBP\", \"VBZ\", \"VB\"]:\n",
        "                s3 += \" are \"\n",
        "            elif v_tense in (\"VBD\", \"VBG\", \"VBN\"):\n",
        "                s3 += \" were \"\n",
        "\n",
        "        elif n_num in [\"PRP\"] and subj_word.lower() == \"they\":\n",
        "\n",
        "            if v_tense in [\"VBP\", \"VBZ\", \"VB\"]:\n",
        "                s3 += \" are \"\n",
        "            elif v_tense in [\"VBD\", \"VBG\", \"VBN\"]:\n",
        "                s3 += \" were \"\n",
        "\n",
        "        elif n_num in [\"PRP\"]:\n",
        "            if v_tense in [\"VBP\", \"VBZ\", \"VB\"]:\n",
        "                s3 += \" is \"\n",
        "            elif v_tense in [\"VBD\", \"VBG\", \"VBN\"]:\n",
        "                s3 += \" was \"\n",
        "\n",
        "        s2 = s3 + s2\n",
        "\n",
        "        return True, [s1, s2]\n",
        "\n",
        "\n",
        "\n",
        "    return False, ant"
      ],
      "execution_count": 0,
      "outputs": []
    },
    {
      "cell_type": "markdown",
      "metadata": {
        "id": "uwE0GsnWwK-q",
        "colab_type": "text"
      },
      "source": [
        "Function to simplify relative clauses"
      ]
    },
    {
      "cell_type": "code",
      "metadata": {
        "id": "mKcz9Zw1tX8e",
        "colab_type": "code",
        "colab": {}
      },
      "source": [
        "def relative_clauses(dep_dict, words, root, dep_root, rel, ant):\n",
        "    subj = dep_root[rel][0]\n",
        "    if subj in dep_dict:\n",
        "\n",
        "        dep_subj = dep_dict[subj]\n",
        "\n",
        "        if 'relcl' in dep_subj or 'rcmod' in dep_subj:\n",
        "            if 'relcl' in dep_subj:\n",
        "                relc = dep_subj['relcl'][0]\n",
        "                type_rc = 'relcl'\n",
        "            else:\n",
        "                relc = dep_subj['rcmod'][0]\n",
        "                type_rc = 'rcmod'\n",
        "            deps_relc = dep_dict[relc]\n",
        "\n",
        "            if 'nsubj' in deps_relc:\n",
        "                subj_rel = 'nsubj'\n",
        "            elif 'nsubjpass' in deps_relc:\n",
        "                subj_rel = 'nsubjpass'\n",
        "            \n",
        "            if 'ref' in dep_subj:\n",
        "                to_remove = dep_subj['ref'][0] \n",
        "                mark = words[dep_subj['ref'][0]-1].lower()\n",
        "            else:\n",
        "                to_remove = deps_relc[subj_rel][0]\n",
        "                mark = words[deps_relc[subj_rel][0]-1].lower()\n",
        "            \n",
        "            #print(mark)\n",
        "\n",
        "            if mark in relpron:\n",
        "                deps_relc[subj_rel][0] = subj\n",
        "                remove_all(dep_dict, to_remove)\n",
        "            elif 'dobj' in deps_relc: ## needed for cases where the subject of the relative clause is the object\n",
        "                obj = deps_relc['dobj'][0]\n",
        "                \n",
        "                if 'poss' in dep_dict[obj]:\n",
        "                    mod = dep_dict[obj]['poss'][0]\n",
        "                    aux_words = words[mod-1]\n",
        "                    aux_words = words[subj-1] + '\\'s'\n",
        "                    words[mod-1] = aux_words\n",
        "                    dep_dict[mod] = dep_dict[subj]\n",
        "                else:\n",
        "                    return False, ant\n",
        "            else:\n",
        "                return False, ant #for borken cases - \" There are some situations where it is particularly important that you get financial information and advice that is independent of us.\"\n",
        "\n",
        "            del dep_dict[subj][type_rc]\n",
        "\n",
        "            if 'punct' in dep_subj:\n",
        "                del dep_dict[subj]['punct']\n",
        "\n",
        "            final_root= {}\n",
        "            build(root, dep_root, dep_dict, words, final_root)\n",
        "            final_relc = {}\n",
        "            build(relc, deps_relc, dep_dict, words, final_relc)\n",
        "\n",
        "            #print(final_root)\n",
        "            #print(final_relc)\n",
        "\n",
        "            s1 = []\n",
        "            for i in sorted(final_root):\n",
        "                s1.append(final_root[i])\n",
        "\n",
        "            s2 = []\n",
        "            for i in sorted(final_relc):\n",
        "                s2.append(final_relc[i])\n",
        "\n",
        "            return True, [' '.join(s1), ' '.join(s2)]    \n",
        "    return False, ant"
      ],
      "execution_count": 0,
      "outputs": []
    },
    {
      "cell_type": "markdown",
      "metadata": {
        "id": "InJizuy7wRes",
        "colab_type": "text"
      },
      "source": [
        "Main implementation"
      ]
    },
    {
      "cell_type": "code",
      "metadata": {
        "id": "OlHjM0pdjsRI",
        "colab_type": "code",
        "colab": {
          "base_uri": "https://localhost:8080/",
          "height": 275
        },
        "outputId": "51614c3a-b16b-41e9-cc40-2a50108583cc"
      },
      "source": [
        "import spacy\n",
        "import nltk\n",
        "nltk.download('averaged_perceptron_tagger')\n",
        "\n",
        "nlp = spacy.load(\"en_core_web_sm\")\n",
        "\n",
        "#list of sentences\n",
        "sentence = ['Robert, who lives nearby, was walking his dog', \n",
        "            'Marcus, my sister\\'s hamster, likes to run in a wheel.']\n",
        "\n",
        "result = []\n",
        "\n",
        "for s in sentence:\n",
        "    \n",
        "    output = nlp(s)\n",
        "\n",
        "    #set of relative pronouns\n",
        "    relpron = ['whom', 'whose', 'which', 'who']\n",
        "\n",
        "\n",
        "    dep_dict = transform(output)\n",
        "    print(dep_dict)\n",
        "\n",
        "    #words = [(token.text.lower(), token.pos_) for token in output]\n",
        "\n",
        "    tokens = [token.text.lower() for token in output]\n",
        "\n",
        "    words = nltk.pos_tag(tokens)\n",
        "\n",
        "    print(words)\n",
        "\n",
        "    if 0 in dep_dict:\n",
        "\n",
        "        root = dep_dict[0]['ROOT'][0]\n",
        "\n",
        "        if root in dep_dict:\n",
        "\n",
        "            dep_root = dep_dict[root]\n",
        "\n",
        "            #handle appositive_phrases\n",
        "            flag_appos, res = appositive_phrases(dep_dict, words, root, dep_root, sentence) \n",
        "            if flag_appos:\n",
        "                result += res\n",
        "                continue\n",
        "\n",
        "            #check for relative clauses\n",
        "            flag_rc, type_rc = analyse_rc(s.split(), relpron)\n",
        "\n",
        "            if flag_rc:\n",
        "\n",
        "                if 'nsubj' in dep_root:\n",
        "                    flag, res = relative_clauses(dep_dict, tokens, root, dep_root, 'nsubj', sentence)\n",
        "                    if flag:\n",
        "                        result += res\n",
        "                        continue\n",
        "                elif 'dobj' in dep_root:\n",
        "                    flag, res = relative_clauses(dep_dict, tokens, root, dep_root, 'dobj', sentence)\n",
        "                    if flag:\n",
        "                        result += res\n",
        "                        continue\n",
        "    result.append(s)\n",
        "\n",
        "print()\n",
        "print(result)"
      ],
      "execution_count": 6,
      "outputs": [
        {
          "output_type": "stream",
          "text": [
            "[nltk_data] Downloading package averaged_perceptron_tagger to\n",
            "[nltk_data]     /root/nltk_data...\n",
            "[nltk_data]   Package averaged_perceptron_tagger is already up-to-\n",
            "[nltk_data]       date!\n",
            "Robert, who lives nearby, was walking his dog\n",
            "\n",
            "{8: {'nsubj': [1], 'aux': [7], 'dobj': [10]}, 1: {'punct': [2, 6], 'relcl': [4]}, 4: {'nsubj': [3], 'advmod': [5]}, 0: {'ROOT': [8]}, 10: {'poss': [9]}}\n",
            "[('robert', 'NN'), (',', ','), ('who', 'WP'), ('lives', 'VBZ'), ('nearby', 'RB'), (',', ','), ('was', 'VBD'), ('walking', 'VBG'), ('his', 'PRP$'), ('dog', 'NN')]\n",
            "Marcus, my sister's hamster, likes to run in a wheel.\n",
            "\n",
            "{8: {'nsubj': [1], 'xcomp': [10], 'punct': [14]}, 1: {'punct': [2, 7], 'appos': [6]}, 4: {'poss': [3], 'case': [5]}, 6: {'poss': [4]}, 0: {'ROOT': [8]}, 10: {'aux': [9], 'prep': [11]}, 13: {'det': [12]}, 11: {'pobj': [13]}}\n",
            "[('marcus', 'NN'), (',', ','), ('my', 'PRP$'), ('sister', 'NN'), (\"'s\", 'POS'), ('hamster', 'NN'), (',', ','), ('likes', 'VBZ'), ('to', 'TO'), ('run', 'VB'), ('in', 'IN'), ('a', 'DT'), ('wheel', 'NN'), ('.', '.')]\n",
            "\n",
            "['robert was walking his dog', 'robert lives nearby', 'marcus likes to run in a wheel .', \"marcus is my sister 's hamster\"]\n"
          ],
          "name": "stdout"
        }
      ]
    }
  ]
}